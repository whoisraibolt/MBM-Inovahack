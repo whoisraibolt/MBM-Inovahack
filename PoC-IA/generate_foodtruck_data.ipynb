{
  "nbformat": 4,
  "nbformat_minor": 0,
  "metadata": {
    "colab": {
      "provenance": []
    },
    "kernelspec": {
      "name": "python3",
      "display_name": "Python 3"
    },
    "language_info": {
      "name": "python"
    }
  },
  "cells": [
    {
      "cell_type": "code",
      "execution_count": 1,
      "metadata": {
        "id": "QwxbRq_9lnO6"
      },
      "outputs": [],
      "source": [
        "# Imports\n",
        "import pandas as pd\n",
        "import random"
      ]
    },
    {
      "cell_type": "code",
      "source": [
        "# Função para gerar dados balanceados\n",
        "def generate_foodtruck_data(num_records):\n",
        "    data = []\n",
        "\n",
        "    # Número de registros com Conformidade_ESG igual a 0\n",
        "    num_conformidade_0 = num_records // 2\n",
        "\n",
        "    # Número de registros com Conformidade_ESG igual a 1\n",
        "    num_conformidade_1 = num_records - num_conformidade_0\n",
        "\n",
        "    for _ in range(num_conformidade_0):\n",
        "        record = {\n",
        "            'Nome': f'FoodTruck{_ + 1}',\n",
        "            'Embalagens_Sustentaveis': random.choice([0, 1]),\n",
        "            'Reducao_Desperdicio': random.choice([0, 1]),\n",
        "            'Fornecedores_Locais': random.choice([0, 1]),\n",
        "            'Emprego_Justo': random.choice([0, 1]),\n",
        "            'Envolvimento_Comunitario': random.choice([0, 1]),\n",
        "            'Produtos_Saudaveis': random.choice([0, 1]),\n",
        "            'Transparencia_Negocios': random.choice([0, 1]),\n",
        "            'Cumprimento_Regulamentacao': random.choice([0, 1]),\n",
        "            'Etica_Relacionamentos': random.choice([0, 1]),\n",
        "            'Conformidade_ESG': 0\n",
        "        }\n",
        "\n",
        "        data.append(record)\n",
        "\n",
        "    for _ in range(num_conformidade_1):\n",
        "        record = {\n",
        "            'Nome': f'FoodTruck{_ + num_conformidade_0 + 1}',\n",
        "            'Embalagens_Sustentaveis': random.choice([0, 1]),\n",
        "            'Reducao_Desperdicio': random.choice([0, 1]),\n",
        "            'Fornecedores_Locais': random.choice([0, 1]),\n",
        "            'Emprego_Justo': random.choice([0, 1]),\n",
        "            'Envolvimento_Comunitario': random.choice([0, 1]),\n",
        "            'Produtos_Saudaveis': random.choice([0, 1]),\n",
        "            'Transparencia_Negocios': random.choice([0, 1]),\n",
        "            'Cumprimento_Regulamentacao': random.choice([0, 1]),\n",
        "            'Etica_Relacionamentos': random.choice([0, 1]),\n",
        "            'Conformidade_ESG': 1\n",
        "        }\n",
        "\n",
        "        data.append(record)\n",
        "\n",
        "    return pd.DataFrame(data)"
      ],
      "metadata": {
        "id": "ATYXxGyyl41M"
      },
      "execution_count": 2,
      "outputs": []
    },
    {
      "cell_type": "code",
      "source": [
        "# Exemplo de uso para gerar 500 registros balanceados\n",
        "num_records = 50000\n",
        "foodtruck_dataset = generate_foodtruck_data(num_records)\n",
        "\n",
        "# Salvar o DataFrame como um arquivo CSV\n",
        "foodtruck_dataset.to_csv('foodtruck_dataset_50000_balanceado.csv', index=False)"
      ],
      "metadata": {
        "id": "IbDezyGNmB7I"
      },
      "execution_count": 3,
      "outputs": []
    }
  ]
}